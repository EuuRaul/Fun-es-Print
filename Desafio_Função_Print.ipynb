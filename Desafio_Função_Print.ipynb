{
  "nbformat": 4,
  "nbformat_minor": 0,
  "metadata": {
    "colab": {
      "provenance": [],
      "authorship_tag": "ABX9TyPBlHsbrwbpH8jR1UYe0t17"
    },
    "kernelspec": {
      "name": "python3",
      "display_name": "Python 3"
    },
    "language_info": {
      "name": "python"
    }
  },
  "cells": [
    {
      "cell_type": "code",
      "execution_count": null,
      "metadata": {
        "colab": {
          "base_uri": "https://localhost:8080/"
        },
        "id": "AhYf39UFIOGD",
        "outputId": "8bc4270a-a865-493c-80ae-f7dcbbafee81"
      },
      "outputs": [
        {
          "output_type": "stream",
          "name": "stdout",
          "text": [
            "Escola de Dados da Alura!.\n",
            "Nome: Raul\n",
            "Sobrenome: Victor\n",
            "R\n",
            "A\n",
            "U\n",
            "L\n",
            "28 fevereiro 2003\n",
            "28/fevereiro/2003\n",
            "ano atual: 2024\n"
          ]
        }
      ],
      "source": [
        "print('Escola de Dados da Alura!.')\n",
        "seu_nome = 'Raul'\n",
        "seu_sobrenome = 'Victor'\n",
        "print('Nome:',seu_nome)\n",
        "print('Sobrenome:',seu_sobrenome)\n",
        "print(\"R\\nA\\nU\\nL\")\n",
        "print(28, 'fevereiro', 2003)\n",
        "print(\"28/fevereiro/2003\")\n",
        "ano = 2024\n",
        "print('ano atual:',ano)\n"
      ]
    }
  ]
}